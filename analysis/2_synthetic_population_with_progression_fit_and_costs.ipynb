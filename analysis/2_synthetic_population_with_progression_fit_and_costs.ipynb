{
 "cells": [
  {
   "cell_type": "markdown",
   "id": "10c09b39-ae07-4b86-a1ce-07a654c13873",
   "metadata": {},
   "source": [
    "# Synthetic population with progression fit and costs\n",
    "\n",
    "This notebook simulates a synthetic patient population\n",
    "using the fitted disease progression and cost model parameters\n",
    "in order to investigate what-if scenarios."
   ]
  },
  {
   "cell_type": "code",
   "execution_count": null,
   "id": "86bcdc16-e6f6-46b8-a969-83d11ac7f79c",
   "metadata": {},
   "outputs": [],
   "source": [
    "%load_ext autoreload\n",
    "%autoreload 2"
   ]
  },
  {
   "cell_type": "code",
   "execution_count": null,
   "id": "40454974-b442-42ac-be30-8ddf79bb5baf",
   "metadata": {},
   "outputs": [],
   "source": [
    "from hem import simulation, costs, plotting\n",
    "from matplotlib import pyplot as plt\n",
    "import numpy as np\n",
    "import pandas as pd\n",
    "from pyprojroot import here"
   ]
  },
  {
   "cell_type": "markdown",
   "id": "1c436543-9cb7-44fc-87ed-a0dfe0d79cf8",
   "metadata": {},
   "source": [
    "## Simulate and generate costs"
   ]
  },
  {
   "cell_type": "code",
   "execution_count": null,
   "id": "9ca17c8c-12d2-43c0-977c-ca256d4876a2",
   "metadata": {},
   "outputs": [],
   "source": [
    "Q = np.genfromtxt(here() / \"models\" / \"fitted_Q.csv\", delimiter=\",\", skip_header=1)\n",
    "Q"
   ]
  },
  {
   "cell_type": "code",
   "execution_count": null,
   "id": "fe2f5c49-0a2b-4aac-bd27-ce3d2fcd92cc",
   "metadata": {},
   "outputs": [],
   "source": [
    "target_means = pd.read_csv(here() / \"models\" / \"expected_costs_by_state.csv\",\n",
    "                          index_col=0)\n",
    "target_means.head()"
   ]
  },
  {
   "cell_type": "code",
   "execution_count": null,
   "id": "0c5862dc-147e-453f-8060-3b879c60a2a3",
   "metadata": {},
   "outputs": [],
   "source": [
    "age_vec, costs_by_age, cost_names, costs_over_lifetime = costs.generate_patients_with_costs(Q, target_means)"
   ]
  },
  {
   "cell_type": "markdown",
   "id": "02fa64e9-2101-45a0-8735-83117aa200f0",
   "metadata": {},
   "source": [
    "# Delay state 3 entry"
   ]
  },
  {
   "cell_type": "code",
   "execution_count": null,
   "id": "4a7fa99b-c85d-4c22-8b4c-ade149065711",
   "metadata": {},
   "outputs": [],
   "source": [
    "# N.b. state 3 becomes state 2 with zero-indexing\n",
    "state = 2\n",
    "t_delay = 10\n",
    "Q_delayed = simulation.get_intensity_matrix_for_delayed_state_entry(Q, state, t_delay)"
   ]
  },
  {
   "cell_type": "code",
   "execution_count": null,
   "id": "aa860cec-e805-4fe1-b128-f3a6b1b5d58b",
   "metadata": {},
   "outputs": [],
   "source": [
    "Q_delayed"
   ]
  },
  {
   "cell_type": "code",
   "execution_count": null,
   "id": "fffadd8b-2521-42c4-897b-b7b744eae720",
   "metadata": {},
   "outputs": [],
   "source": [
    "Q"
   ]
  },
  {
   "cell_type": "code",
   "execution_count": null,
   "id": "5a802605-dc4a-4b2f-b90c-0a67e8c869aa",
   "metadata": {},
   "outputs": [],
   "source": [
    "_, costs_by_age_delayed, _, costs_over_lifetime_delayed = costs.generate_patients_with_costs(Q_delayed, target_means)"
   ]
  },
  {
   "cell_type": "markdown",
   "id": "2d85858f-b7a9-4b6d-8976-c770a5d8c7e4",
   "metadata": {},
   "source": [
    "## Plot results"
   ]
  },
  {
   "cell_type": "code",
   "execution_count": null,
   "id": "32f49c41-5b85-49d8-a73e-d8e4b7f3a70c",
   "metadata": {},
   "outputs": [],
   "source": [
    "chart, plot_data = plotting.plot_simulated_cost_results(costs_by_age, cost_names)\n",
    "chart"
   ]
  },
  {
   "cell_type": "code",
   "execution_count": null,
   "id": "418313db-592a-4574-abbc-d46b151ea165",
   "metadata": {},
   "outputs": [],
   "source": [
    "chart, _ = plotting.plot_simulated_cost_results(costs_by_age_delayed, cost_names)\n",
    "chart"
   ]
  },
  {
   "cell_type": "markdown",
   "id": "8b16ed43-e454-460a-9f4f-c8e17f715365",
   "metadata": {},
   "source": [
    "## Total cost saving calculation"
   ]
  },
  {
   "cell_type": "code",
   "execution_count": null,
   "id": "2266501c-9c4b-47b8-a0d0-8765be70991b",
   "metadata": {},
   "outputs": [],
   "source": [
    "mean_cost_saving_per_patient, var_cost_saving_per_patient = costs.calculate_mean_and_variance_of_cost_saving(costs_by_age, costs_by_age_delayed)"
   ]
  },
  {
   "cell_type": "code",
   "execution_count": null,
   "id": "a5e01bac-055d-4275-b7e5-e080d2c4b054",
   "metadata": {},
   "outputs": [],
   "source": [
    "mean_cost_saving_per_patient"
   ]
  },
  {
   "cell_type": "code",
   "execution_count": null,
   "id": "2f802b32-4278-45bc-b5db-19fd070d0adb",
   "metadata": {},
   "outputs": [],
   "source": [
    "var_cost_saving_per_patient"
   ]
  },
  {
   "cell_type": "code",
   "execution_count": null,
   "id": "ff3cf349-265e-402e-a047-73a9b1a58e9a",
   "metadata": {},
   "outputs": [],
   "source": [
    "n_UK_HD_patients = 8_000\n",
    "estimated_cost_saving_per_year_UK = mean_cost_saving_per_patient * n_UK_HD_patients"
   ]
  },
  {
   "cell_type": "code",
   "execution_count": null,
   "id": "f9854308-7995-4146-8390-e52258b758ef",
   "metadata": {},
   "outputs": [],
   "source": [
    "estimated_cost_saving_per_year_UK"
   ]
  },
  {
   "cell_type": "code",
   "execution_count": null,
   "id": "965d9af1-8349-4ec6-bc3c-fa5c2e61d9d9",
   "metadata": {},
   "outputs": [],
   "source": [
    "variance_cost_saving_per_year_UK = var_cost_saving_per_patient * n_UK_HD_patients"
   ]
  },
  {
   "cell_type": "code",
   "execution_count": null,
   "id": "8f8902fb-60c5-4b96-aa64-67de91e96da3",
   "metadata": {},
   "outputs": [],
   "source": [
    "cost_saving_UK_95CI = [estimated_cost_saving_per_year_UK - 1.96 * np.sqrt(variance_cost_saving_per_year_UK),\n",
    "                       estimated_cost_saving_per_year_UK + 1.96 * np.sqrt(variance_cost_saving_per_year_UK)]\n",
    "cost_saving_UK_95CI"
   ]
  },
  {
   "cell_type": "code",
   "execution_count": null,
   "id": "2f3082ef-382e-4bd1-99db-4c0f2fb3815f",
   "metadata": {},
   "outputs": [],
   "source": []
  }
 ],
 "metadata": {
  "kernelspec": {
   "display_name": "Python 3 (ipykernel)",
   "language": "python",
   "name": "python3"
  },
  "language_info": {
   "codemirror_mode": {
    "name": "ipython",
    "version": 3
   },
   "file_extension": ".py",
   "mimetype": "text/x-python",
   "name": "python",
   "nbconvert_exporter": "python",
   "pygments_lexer": "ipython3",
   "version": "3.8.12"
  }
 },
 "nbformat": 4,
 "nbformat_minor": 5
}
